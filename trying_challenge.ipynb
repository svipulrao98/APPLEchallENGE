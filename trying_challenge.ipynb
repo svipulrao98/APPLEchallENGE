{
 "cells": [
  {
   "cell_type": "code",
   "execution_count": 1,
   "metadata": {},
   "outputs": [],
   "source": [
    "import numpy as np\n",
    "import pandas as pd"
   ]
  },
  {
   "cell_type": "code",
   "execution_count": 2,
   "metadata": {},
   "outputs": [],
   "source": [
    "company_x = [line.rstrip('\\n') for line in open('company')]\n",
    "apple_x = [line.rstrip('\\n') for line in open('fruit')]"
   ]
  },
  {
   "cell_type": "code",
   "execution_count": 15,
   "metadata": {},
   "outputs": [],
   "source": [
    "x=[]\n",
    "x.extend(company_x)\n",
    "x.extend(apple_x)"
   ]
  },
  {
   "cell_type": "code",
   "execution_count": 4,
   "metadata": {},
   "outputs": [],
   "source": [
    "y=[]\n",
    "for i in range(len(company_x)):\n",
    "    y.append(1)\n",
    "for i in range(len(apple_x)):\n",
    "    y.append(0)"
   ]
  },
  {
   "cell_type": "code",
   "execution_count": 8,
   "metadata": {},
   "outputs": [
    {
     "name": "stdout",
     "output_type": "stream",
     "text": [
      "[nltk_data] Downloading package stopwords to /home/vipss/nltk_data...\n",
      "[nltk_data]   Package stopwords is already up-to-date!\n"
     ]
    }
   ],
   "source": [
    "#clean text\n",
    "import re\n",
    "import nltk\n",
    "nltk.download('stopwords')\n",
    "from nltk.corpus import stopwords\n",
    "from nltk.stem.porter import PorterStemmer\n",
    "REPLACE_BY_SPACE_RE=re.compile('[/(){}\\[\\]\\|@,;]')\n",
    "BAD_SYMBOLS_RE = re.compile('[^0-9a-z #+_]')\n",
    "\n",
    "STOPWORDS = set(stopwords.words('english'))"
   ]
  },
  {
   "cell_type": "code",
   "execution_count": 16,
   "metadata": {},
   "outputs": [],
   "source": [
    "def clean_text(text):\n",
    "    \"\"\"\n",
    "        text:a string\n",
    "        return: clean string\n",
    "    \"\"\"\n",
    "    for i in range(len(text)):\n",
    "        text[i]=text[i].lower()\n",
    "        text[i]=REPLACE_BY_SPACE_RE.sub(' ', text[i])#replace bad ones by extra spaces.\n",
    "        text[i]=BAD_SYMBOLS_RE.sub('', text[i])#replace numbers and symbols by nothing\n",
    "        text[i] = ' '.join(word for word in text[i].split() if word not in STOPWORDS)#remove stopwords\n",
    "    return text"
   ]
  },
  {
   "cell_type": "code",
   "execution_count": 17,
   "metadata": {
    "scrolled": true
   },
   "outputs": [],
   "source": [
    "x=clean_text(x)"
   ]
  },
  {
   "cell_type": "code",
   "execution_count": 20,
   "metadata": {},
   "outputs": [],
   "source": [
    "#max num of words\n",
    "MAX_NB_WORDS=40000\n",
    "#maximum words in each question\n",
    "MAX_SEQUENCE_LENGTH=250\n",
    "#embedding\n",
    "EMBEDDING_DIM=100"
   ]
  },
  {
   "cell_type": "code",
   "execution_count": 21,
   "metadata": {},
   "outputs": [
    {
     "name": "stderr",
     "output_type": "stream",
     "text": [
      "/home/vipss/anaconda3/lib/python3.6/site-packages/h5py/__init__.py:36: FutureWarning: Conversion of the second argument of issubdtype from `float` to `np.floating` is deprecated. In future, it will be treated as `np.float64 == np.dtype(float).type`.\n",
      "  from ._conv import register_converters as _register_converters\n",
      "Using TensorFlow backend.\n"
     ]
    }
   ],
   "source": [
    "from keras.preprocessing.text import Tokenizer\n",
    "tokenizer=Tokenizer(num_words=MAX_NB_WORDS, filters='!\"#$%&()*+,-./:;<=>?@[\\]^_`{|}~', lower=True)\n",
    "tokenizer.fit_on_texts(x)\n",
    "words=tokenizer.word_index"
   ]
  },
  {
   "cell_type": "code",
   "execution_count": 23,
   "metadata": {},
   "outputs": [],
   "source": [
    "from keras.preprocessing.sequence import pad_sequences\n",
    "x=tokenizer.texts_to_sequences(x)\n",
    "x=pad_sequences(x, MAX_SEQUENCE_LENGTH)"
   ]
  },
  {
   "cell_type": "code",
   "execution_count": 25,
   "metadata": {},
   "outputs": [],
   "source": [
    "from sklearn.preprocessing import StandardScaler\n",
    "def scl(tr, te):\n",
    "    sc=StandardScaler()\n",
    "    tr=sc.fit_transform(tr)\n",
    "    te=sc.transform(te)\n",
    "    return (tr,te, sc)"
   ]
  },
  {
   "cell_type": "code",
   "execution_count": 26,
   "metadata": {},
   "outputs": [
    {
     "name": "stderr",
     "output_type": "stream",
     "text": [
      "/home/vipss/anaconda3/lib/python3.6/site-packages/sklearn/utils/validation.py:595: DataConversionWarning: Data with input dtype int32 was converted to float64 by StandardScaler.\n",
      "  warnings.warn(msg, DataConversionWarning)\n",
      "/home/vipss/anaconda3/lib/python3.6/site-packages/sklearn/utils/validation.py:595: DataConversionWarning: Data with input dtype int32 was converted to float64 by StandardScaler.\n",
      "  warnings.warn(msg, DataConversionWarning)\n",
      "/home/vipss/anaconda3/lib/python3.6/site-packages/sklearn/utils/validation.py:595: DataConversionWarning: Data with input dtype int32 was converted to float64 by StandardScaler.\n",
      "  warnings.warn(msg, DataConversionWarning)\n"
     ]
    }
   ],
   "source": [
    "from sklearn.model_selection import train_test_split\n",
    "x_train, x_test, y_train, y_test=train_test_split(x, y, test_size=0.075, random_state=84)\n",
    "x_train, x_test, scl=scl(x_train, x_test)"
   ]
  },
  {
   "cell_type": "code",
   "execution_count": 33,
   "metadata": {},
   "outputs": [],
   "source": [
    "from keras.models import Sequential\n",
    "from keras.layers import Dense, LSTM, SpatialDropout1D, Embedding\n",
    "from keras.callbacks import EarlyStopping\n",
    "model=Sequential()"
   ]
  },
  {
   "cell_type": "code",
   "execution_count": 35,
   "metadata": {},
   "outputs": [
    {
     "name": "stderr",
     "output_type": "stream",
     "text": [
      "/home/vipss/anaconda3/lib/python3.6/site-packages/ipykernel_launcher.py:4: UserWarning: Update your `Dense` call to the Keras 2 API: `Dense(activation=\"sigmoid\", units=1)`\n",
      "  after removing the cwd from sys.path.\n"
     ]
    },
    {
     "name": "stdout",
     "output_type": "stream",
     "text": [
      "Train on 392 samples, validate on 4 samples\n",
      "Epoch 1/10\n",
      "392/392 [==============================] - 9s 23ms/step - loss: 0.6575 - acc: 0.6071 - val_loss: 0.8078 - val_acc: 0.2500\n",
      "Epoch 2/10\n",
      "392/392 [==============================] - 7s 18ms/step - loss: 0.5585 - acc: 0.7219 - val_loss: 0.6104 - val_acc: 0.5000\n",
      "Epoch 3/10\n",
      "392/392 [==============================] - 7s 18ms/step - loss: 0.4663 - acc: 0.7806 - val_loss: 0.6932 - val_acc: 0.2500\n",
      "Epoch 4/10\n",
      "392/392 [==============================] - 7s 18ms/step - loss: 0.4084 - acc: 0.7985 - val_loss: 0.7500 - val_acc: 0.2500\n",
      "Epoch 5/10\n",
      "392/392 [==============================] - 7s 18ms/step - loss: 0.3812 - acc: 0.8010 - val_loss: 0.6410 - val_acc: 0.2500\n"
     ]
    }
   ],
   "source": [
    "model.add(Embedding(MAX_NB_WORDS, EMBEDDING_DIM, input_length=x_train.shape[1]))\n",
    "model.add(SpatialDropout1D(0.2))\n",
    "model.add(LSTM(100, dropout=0.2, recurrent_dropout=0.2))\n",
    "model.add(Dense(output_dim=1, activation=\"sigmoid\"))\n",
    "model.compile(metrics=['accuracy'], loss=\"binary_crossentropy\", optimizer=\"adam\")\n",
    "testing=model.fit(x_train, y_train, epochs=10, batch_size=10, validation_split=0.01, callbacks=[EarlyStopping(monitor='val_loss', patience=3, min_delta=0.0001)])"
   ]
  },
  {
   "cell_type": "code",
   "execution_count": 36,
   "metadata": {},
   "outputs": [
    {
     "name": "stdout",
     "output_type": "stream",
     "text": [
      "33/33 [==============================] - 0s 3ms/step\n"
     ]
    }
   ],
   "source": [
    "accr=model.evaluate(x_test, y_test)"
   ]
  },
  {
   "cell_type": "code",
   "execution_count": 40,
   "metadata": {},
   "outputs": [
    {
     "name": "stderr",
     "output_type": "stream",
     "text": [
      "/home/vipss/anaconda3/lib/python3.6/site-packages/sklearn/utils/validation.py:595: DataConversionWarning: Data with input dtype int32 was converted to float64 by StandardScaler.\n",
      "  warnings.warn(msg, DataConversionWarning)\n",
      "/home/vipss/anaconda3/lib/python3.6/site-packages/sklearn/utils/validation.py:595: DataConversionWarning: Data with input dtype int32 was converted to float64 by StandardScaler.\n",
      "  warnings.warn(msg, DataConversionWarning)\n"
     ]
    }
   ],
   "source": [
    "final_sc=StandardScaler()\n",
    "x_final=final_sc.fit_transform(x)"
   ]
  },
  {
   "cell_type": "code",
   "execution_count": 44,
   "metadata": {},
   "outputs": [
    {
     "name": "stderr",
     "output_type": "stream",
     "text": [
      "/home/vipss/anaconda3/lib/python3.6/site-packages/ipykernel_launcher.py:5: UserWarning: Update your `Dense` call to the Keras 2 API: `Dense(activation=\"sigmoid\", units=1)`\n",
      "  \"\"\"\n"
     ]
    },
    {
     "name": "stdout",
     "output_type": "stream",
     "text": [
      "Train on 424 samples, validate on 5 samples\n",
      "Epoch 1/10\n",
      "424/424 [==============================] - 9s 21ms/step - loss: 0.6591 - acc: 0.6250 - val_loss: 0.8124 - val_acc: 0.0000e+00\n",
      "Epoch 2/10\n",
      "424/424 [==============================] - 8s 18ms/step - loss: 0.5745 - acc: 0.6910 - val_loss: 0.7007 - val_acc: 0.6000\n",
      "Epoch 3/10\n",
      "424/424 [==============================] - 8s 18ms/step - loss: 0.4558 - acc: 0.7877 - val_loss: 0.4864 - val_acc: 0.8000\n",
      "Epoch 4/10\n",
      "424/424 [==============================] - 8s 18ms/step - loss: 0.4084 - acc: 0.7712 - val_loss: 0.5357 - val_acc: 0.8000\n",
      "Epoch 5/10\n",
      "424/424 [==============================] - 8s 18ms/step - loss: 0.3891 - acc: 0.7712 - val_loss: 0.5874 - val_acc: 0.6000\n",
      "Epoch 6/10\n",
      "424/424 [==============================] - 8s 19ms/step - loss: 0.3618 - acc: 0.8042 - val_loss: 0.3830 - val_acc: 0.6000\n",
      "Epoch 7/10\n",
      "424/424 [==============================] - 8s 18ms/step - loss: 0.3461 - acc: 0.8231 - val_loss: 0.2806 - val_acc: 1.0000\n",
      "Epoch 8/10\n",
      "424/424 [==============================] - 8s 18ms/step - loss: 0.3421 - acc: 0.8042 - val_loss: 0.3609 - val_acc: 0.6000\n",
      "Epoch 9/10\n",
      "424/424 [==============================] - 8s 18ms/step - loss: 0.3305 - acc: 0.8090 - val_loss: 0.2291 - val_acc: 1.0000\n",
      "Epoch 10/10\n",
      "424/424 [==============================] - 8s 18ms/step - loss: 0.3232 - acc: 0.7901 - val_loss: 1.0525 - val_acc: 0.6000\n"
     ]
    }
   ],
   "source": [
    "final_model=Sequential()\n",
    "final_model.add(Embedding(MAX_NB_WORDS, EMBEDDING_DIM, input_length=x_final.shape[1]))\n",
    "final_model.add(SpatialDropout1D(0.2))\n",
    "final_model.add(LSTM(100, dropout=0.2, recurrent_dropout=0.2))\n",
    "final_model.add(Dense(output_dim=1, activation=\"sigmoid\"))\n",
    "final_model.compile(metrics=['accuracy'], loss=\"binary_crossentropy\", optimizer=\"adam\")\n",
    "testing=final_model.fit(x_final, y, epochs=10, batch_size=10, validation_split=0.01, callbacks=[EarlyStopping(monitor='val_loss', patience=3, min_delta=0.0001)])"
   ]
  },
  {
   "cell_type": "code",
   "execution_count": 42,
   "metadata": {},
   "outputs": [
    {
     "data": {
      "text/plain": [
       "(429, 250)"
      ]
     },
     "execution_count": 42,
     "metadata": {},
     "output_type": "execute_result"
    }
   ],
   "source": [
    "x_final.shape"
   ]
  }
 ],
 "metadata": {
  "kernelspec": {
   "display_name": "Python 3",
   "language": "python",
   "name": "python3"
  },
  "language_info": {
   "codemirror_mode": {
    "name": "ipython",
    "version": 3
   },
   "file_extension": ".py",
   "mimetype": "text/x-python",
   "name": "python",
   "nbconvert_exporter": "python",
   "pygments_lexer": "ipython3",
   "version": "3.6.8"
  }
 },
 "nbformat": 4,
 "nbformat_minor": 2
}
